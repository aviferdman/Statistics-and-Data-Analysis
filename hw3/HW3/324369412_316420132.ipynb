{
 "cells": [
  {
   "cell_type": "markdown",
   "metadata": {},
   "source": [
    "### IDs:\n",
    "Insert yours IDs to the cell below"
   ]
  },
  {
   "cell_type": "markdown",
   "metadata": {},
   "source": [
    "ID #1: 324369412\n",
    "\n",
    "ID #2: 316420132\n"
   ]
  },
  {
   "cell_type": "markdown",
   "metadata": {},
   "source": [
    "## Read the following instructions carefully:\n",
    "\n",
    "1. This jupyter notebook contains all the step by step instructions needed for this exercise.\n",
    "1. You are free to add cells.\n",
    "1. Write your functions and your answers in this jupyter notebook only.\n",
    "1. Answers to theoretical questions should be written in **markdown cells (with $\\LaTeX$ support)**.\n",
    "1. Submit this jupyter notebook only using your ID as a filename. Not to use ZIP or RAR. For example, your Moodle submission file name should look like this (two id numbers): `123456789_987654321.ipynb`."
   ]
  },
  {
   "cell_type": "markdown",
   "metadata": {},
   "source": [
    "### Question 1 - Correlations (14 points)"
   ]
  },
  {
   "cell_type": "markdown",
   "metadata": {},
   "source": [
    "Provide example datapoints matching the following descriptions. Each example should be constructed over n=50 datapoints. Provide a table description of the example data as well as a jointplot (see example below). \n",
    "If you think that the situation described is impossible then clearly explain why (you don’t need to give a rigorous proof).<br>\n",
    "Pearson(x,y) = Pearson correlation<br>\n",
    "τ(x,y) = Kendall rank correlation<br>\n",
    "ρ(x,y) = Spearman rank correlation <br>\n",
    "<img src=\"jointplot.png\">"
   ]
  },
  {
   "cell_type": "markdown",
   "metadata": {},
   "source": [
    "#### 1.A\n",
    "Data in which  $Pearson(x,y) < -0.9$ but where $n-1$ points can be selected so that for the vectors restricted to those we have $Pearson(x_{n-1},y_{n-1}) > 0.9$"
   ]
  },
  {
   "cell_type": "code",
   "execution_count": null,
   "metadata": {},
   "outputs": [],
   "source": []
  },
  {
   "cell_type": "markdown",
   "metadata": {},
   "source": [
    "#### 1.B\n",
    "Data in which  $\\rho(x,y) = 1$ but where $n-1$ points can be selected so that for the vectors restricted to those we have $\\rho(x_{n-1},y_{n-1}) < 0.9$"
   ]
  },
  {
   "cell_type": "code",
   "execution_count": null,
   "metadata": {},
   "outputs": [],
   "source": []
  },
  {
   "cell_type": "markdown",
   "metadata": {},
   "source": [
    "#### 1.C\n",
    "Data with τ(x,y) > ρ(x,y) + 0.45"
   ]
  },
  {
   "cell_type": "code",
   "execution_count": null,
   "metadata": {},
   "outputs": [],
   "source": []
  },
  {
   "cell_type": "markdown",
   "metadata": {},
   "source": [
    "#### 1.D\n",
    "Data with τ(x,y) < ρ(x,y) – 0.45"
   ]
  },
  {
   "cell_type": "code",
   "execution_count": null,
   "metadata": {},
   "outputs": [],
   "source": []
  },
  {
   "cell_type": "markdown",
   "metadata": {},
   "source": [
    "#### 1.E\n",
    "Data with Pearson(x,y) < ρ(x,y) – 0.6"
   ]
  },
  {
   "cell_type": "code",
   "execution_count": null,
   "metadata": {},
   "outputs": [],
   "source": []
  },
  {
   "cell_type": "markdown",
   "metadata": {},
   "source": [
    "#### 1.F\n",
    "Data with Pearson(x,y) > ρ(x,y) + 1.2"
   ]
  },
  {
   "cell_type": "code",
   "execution_count": null,
   "metadata": {},
   "outputs": [],
   "source": []
  },
  {
   "cell_type": "markdown",
   "metadata": {},
   "source": [
    "#### 1.G\n",
    "Data with τ(x,y) < ρ(x,y) – 1.2 "
   ]
  },
  {
   "cell_type": "code",
   "execution_count": null,
   "metadata": {},
   "outputs": [],
   "source": []
  },
  {
   "cell_type": "markdown",
   "metadata": {},
   "source": [
    "### Question 2 - Analysis of the UCI Heart Disease dataset  (38 points)"
   ]
  },
  {
   "cell_type": "markdown",
   "metadata": {},
   "source": [
    "Perform data analysis on the UCI Heart Disease Dataset\n",
    "References:\n",
    "1. Detrano, R., Janosi, A., Steinbrunn, W., Pfisterer, M., Schmid, J., Sandhu, S., Guppy, K., Lee, S., & Froelicher, V. (1989). International application of a new probability algorithm for the diagnosis of coronary artery disease. American Journal of Cardiology, 64,304--310.\n",
    "2. David W. Aha & Dennis Kibler. \"Instance-based prediction of heart-disease presence with the Cleveland database.\"\n",
    "3. Gennari, J.H., Langley, P, & Fisher, D. (1989). Models of incremental concept formation. Artificial Intelligence, 40, 11--61.\n",
    "\n",
    "Use the following links to find the details of the data: \n",
    "1. https://archive.ics.uci.edu/ml/datasets/heart+disease\n",
    "2. https://www.kaggle.com/ronitf/heart-disease-uci\n",
    "\n",
    "In the follwong cells write a report for your analysis. In your report provide a clear description of the analysis methods and of the results. This should include a graphical representation of the results and the conclusions. Provide p-values or other indicators of the statistical significance where appropriate. <br>\n",
    "Design your report to be concise but still cover interesting findings.\n",
    "\n",
    "There are missing values in the data. Find them and impute them by using the median (for numerical features) or the mode (for categorical features) value of the relevant feature (column).\n",
    "Address the following questions:\n",
    "* Using confidence intervals determine for which numerical features you can state with confidence of 95% that the healthy population (target = 0) mean is larger/smaller than the disease population (target = 1) mean. \n",
    "* Draw histograms for each numerical feature. Inspect the observed distributions and then use MLE to plot, on the same figures, fits of the distributions.\n",
    "* For each pair of numerical feature, calculate correlations and indicate whether you find them significant. For select pairs, with significant correlations, draw joint plot with marginal histograms (see Seaborn joint plot) and find bivariate normal fits. Then use the example code below to draw plots of the bivariate pdfs (you may edit the code as you see fit).\n",
    "* Are there pairs that are significantly correlated in males but not in females? The opposite? How about healthy vs disease? Can you graphically represent this?\n",
    "* For each numerical feature, except age, plot the distribution for this feature against bins of age. In each bin provide a split violin plot, with different colors for healthy and disease.\n",
    "\n",
    "Suggest, state and address at least one original question.\n"
   ]
  },
  {
   "cell_type": "code",
   "execution_count": 2,
   "metadata": {},
   "outputs": [
    {
     "data": {
      "image/png": "[encoded data removed]",
      "text/plain": [
       "<Figure size 432x288 with 1 Axes>"
      ]
     },
     "metadata": {
      "needs_background": "light"
     },
     "output_type": "display_data"
    }
   ],
   "source": [
    "# Example code for bivariate pdfs\n",
    "from scipy.stats import multivariate_normal as mn\n",
    "import numpy as np\n",
    "import matplotlib.pyplot as plt\n",
    "%matplotlib inline\n",
    "\n",
    "def plot_2d_Gaussian_pdf(means, cov):\n",
    "    n = 100\n",
    "    x1 = np.linspace(means[0] - 3 * np.sqrt(cov[0][0]), means[0] + 3 * np.sqrt(cov[0][0]), n)\n",
    "    x2 = np.linspace(means[1] - 3 * np.sqrt(cov[1][1]), means[1] + 3 * np.sqrt(cov[1][1]), n)\n",
    "    x1_v, x2_v = np.meshgrid(x1, x2)\n",
    "    Xgrid = np.vstack([x1_v.ravel(), x2_v.ravel()]).T\n",
    "    Y = mn.pdf(Xgrid, means, cov)\n",
    "    fig, ax = plt.subplots()\n",
    "    ax.pcolorfast(x1, x2, Y.reshape(x1_v.shape), alpha=0.5, cmap='Blues')\n",
    "    ax.contour(x1_v, x2_v, Y.reshape(x1_v.shape),\n",
    "               levels=[0.05, 0.1, 0.15, 0.2], alpha=0.3, colors='b')\n",
    "    ax.axis('equal')\n",
    "    ax.grid(alpha=0.2)\n",
    "    plt.show()\n",
    "    \n",
    "means = [3, 2]\n",
    "cov = [[1, 0.5], [0.5, 0.8]]\n",
    "plot_2d_Gaussian_pdf(means, cov)"
   ]
  },
  {
   "cell_type": "code",
   "execution_count": null,
   "metadata": {},
   "outputs": [],
   "source": []
  },
  {
   "cell_type": "markdown",
   "metadata": {},
   "source": [
    "### Question 3 - Heavy Tailed Distributions and the Exponential Distribution (16 points)"
   ]
  },
  {
   "cell_type": "markdown",
   "metadata": {},
   "source": [
    "### Heavy Tailed Distributions\n",
    "\n",
    "Recall the definition of Heavy Tailed distribution from the lectures.\n",
    "\n",
    "*A distribution is said to have a heavy right tail if its tail probabilities vanish slower than any exponential*\n",
    "$$ \\forall t>0, \\lim_{x\\to\\infty} e^{tx}P(X>x)=\\infty $$"
   ]
  },
  {
   "cell_type": "markdown",
   "metadata": {},
   "source": [
    "Does the standard log-normal distribution have a heavy right tail? prove your answer."
   ]
  },
  {
   "cell_type": "markdown",
   "metadata": {},
   "source": []
  },
  {
   "cell_type": "markdown",
   "metadata": {},
   "source": [
    "### Special Properties of the Exponential Distribution\n",
    "\n",
    "Let $X_1 \\sim exp(\\lambda_1)$ and $X_2 \\sim exp(\\lambda_2)$ be two independent exponential random variables.\n",
    "\n",
    "Calculate $P(X_1 < X_2)$."
   ]
  },
  {
   "cell_type": "markdown",
   "metadata": {},
   "source": [
    "Let $ X_1 \\sim \\text{Exp}(\\lambda_1) $ and $ X_2 \\sim \\text{Exp}(\\lambda_2) $ be two independent exponential random variables.\n",
    "\n",
    "We are tasked with calculating $ P(X_1 < X_2) $.\n",
    "\n",
    "### Step 1: Definition of Exponential Distribution\n",
    "\n",
    "For an exponential random variable $ X \\sim \\text{Exp}(\\lambda) $, the probability density function (PDF) is:\n",
    "\n",
    "$$\n",
    "f_X(x) = \\lambda e^{-\\lambda x}, \\quad x \\geq 0.\n",
    "$$\n",
    "\n",
    "The cumulative distribution function (CDF) is:\n",
    "\n",
    "$$\n",
    "F_X(x) = 1 - e^{-\\lambda x}, \\quad x \\geq 0.\n",
    "$$\n",
    "\n",
    "### Step 2: Probability Calculation\n",
    "\n",
    "We are interested in $ P(X_1 < X_2) $. Using the joint distribution of $ X_1 $ and $ X_2 $, the probability can be expressed as:\n",
    "\n",
    "$$\n",
    "P(X_1 < X_2) = \\int_0^\\infty P(X_1 < x_2) f_{X_2}(x_2) \\, dx_2.\n",
    "$$\n",
    "\n",
    "Here, $ P(X_1 < x_2) = F_{X_1}(x_2) $, which is the CDF of $ X_1 $, and $ f_{X_2}(x_2) $ is the PDF of $ X_2 $. Therefore:\n",
    "\n",
    "$$\n",
    "P(X_1 < X_2) = \\int_0^\\infty (1 - e^{-\\lambda_1 x_2}) \\lambda_2 e^{-\\lambda_2 x_2} \\, dx_2.\n",
    "$$\n",
    "\n",
    "### Step 3: Simplifying the Integral\n",
    "\n",
    "Breaking the integral into two parts:\n",
    "\n",
    "$$\n",
    "P(X_1 < X_2) = \\int_0^\\infty \\lambda_2 e^{-\\lambda_2 x_2} \\, dx_2 - \\int_0^\\infty \\lambda_2 e^{-\\lambda_1 x_2} e^{-\\lambda_2 x_2} \\, dx_2.\n",
    "$$\n",
    "\n",
    "The first integral is straightforward:\n",
    "\n",
    "$$\n",
    "\\int_0^\\infty \\lambda_2 e^{-\\lambda_2 x_2} \\, dx_2 = 1.\n",
    "$$\n",
    "\n",
    "The second integral becomes:\n",
    "\n",
    "$$\n",
    "\\int_0^\\infty \\lambda_2 e^{-(\\lambda_1 + \\lambda_2) x_2} \\, dx_2 = \\frac{\\lambda_2}{\\lambda_1 + \\lambda_2}.\n",
    "$$\n",
    "\n",
    "### Step 4: Final Expression\n",
    "\n",
    "Thus, we have:\n",
    "\n",
    "$$\n",
    "P(X_1 < X_2) = 1 - \\frac{\\lambda_2}{\\lambda_1 + \\lambda_2}.\n",
    "$$\n",
    "\n",
    "Simplifying this:\n",
    "\n",
    "$$\n",
    "P(X_1 < X_2) = \\frac{\\lambda_1}{\\lambda_1 + \\lambda_2}.\n",
    "$$\n",
    "\n",
    "### Conclusion:\n",
    "\n",
    "The probability that $ X_1 < X_2 $ is:\n",
    "\n",
    "$$\n",
    "P(X_1 < X_2) = \\frac{\\lambda_1}{\\lambda_1 + \\lambda_2}.\n",
    "$$"
   ]
  },
  {
   "cell_type": "markdown",
   "metadata": {},
   "source": [
    "### Question 4 - CLT for Markov chains (16 points)"
   ]
  },
  {
   "cell_type": "markdown",
   "metadata": {},
   "source": [
    "In this exercise you will construct trajectories of Markovian dice rolling results in the following way.<br>\n",
    "The first roll, X0, is Unif(1..6)<br>\n",
    "After i rolls are determined the i+1st, Xi+1, is drawn according to the row that corresponds to the value of Xi in the matrix T below. <br>\n",
    "In other words, T is the transition matrix of a Markov chain and the initial distribution is uniform.\n",
    "\n",
    "\\begin{equation*}\n",
    "T = \n",
    "\\begin{pmatrix}\n",
    "0.4 & 0.2 & 0.1 & 0 & 0.1 & 0.2 \\\\\n",
    "0.2 & 0.4 & 0.2 & 0.1 & 0 & 0.1 \\\\\n",
    "0.1 & 0.2 & 0.4 & 0.2 & 0.1 & 0 \\\\\n",
    "0 & 0.1 & 0.2 & 0.4 & 0.2 & 0.1 \\\\\n",
    "0.1 & 0 & 0.1 & 0.2 & 0.4 & 0.2 \\\\\n",
    "0.2 & 0.1 & 0 & 0.1 & 0.2 & 0.4\n",
    "\\end{pmatrix}\n",
    "\\end{equation*}"
   ]
  },
  {
   "cell_type": "markdown",
   "metadata": {},
   "source": [
    "#### 4.A\n",
    "Construct 1000 trajectories, each of length 30.\n",
    "1. What do you expect the average value of all 30 numbers in a trajectory to be?\n",
    "2. Compute the average value of each such trajectory. Draw a histogram of the 1000 numbers you received, using 20 bins.\n",
    "3. What does the distribution look like? What are the empirical mean and the std?"
   ]
  },
  {
   "cell_type": "code",
   "execution_count": 29,
   "metadata": {},
   "outputs": [
    {
     "name": "stdout",
     "output_type": "stream",
     "text": [
      "Stationary distribution: [0.16666667 0.16666667 0.16666667 0.16666667 0.16666667 0.16666667]\n",
      "Expected average value in the stationary state: 3.5000\n"
     ]
    }
   ],
   "source": [
    "import numpy as np\n",
    "\n",
    "# Transition matrix\n",
    "T = np.array([\n",
    "    [0.4, 0.2, 0.1, 0.0, 0.1, 0.2],\n",
    "    [0.2, 0.4, 0.2, 0.1, 0.0, 0.1],\n",
    "    [0.1, 0.2, 0.4, 0.2, 0.1, 0.0],\n",
    "    [0.0, 0.1, 0.2, 0.4, 0.2, 0.1],\n",
    "    [0.1, 0.0, 0.1, 0.2, 0.4, 0.2],\n",
    "    [0.2, 0.1, 0.0, 0.1, 0.2, 0.4],\n",
    "])\n",
    "\n",
    "# Solve for the stationary distribution: pi * T = pi\n",
    "eigvals, eigvecs = np.linalg.eig(T.T)  # Transpose for left eigenvector\n",
    "stationary = eigvecs[:, np.isclose(eigvals, 1)].flatten().real  # Eigenvector for eigenvalue 1\n",
    "stationary /= stationary.sum()  # Normalize to sum to 1\n",
    "\n",
    "# Calculate the expected value\n",
    "states = np.arange(1, 7)  # Possible states: 1 to 6\n",
    "expected_value = np.dot(states, stationary)\n",
    "\n",
    "print(f\"Stationary distribution: {stationary}\")\n",
    "print(f\"Expected average value in the stationary state: {expected_value:.4f}\")\n"
   ]
  },
  {
   "cell_type": "code",
   "execution_count": 30,
   "metadata": {},
   "outputs": [],
   "source": [
    "import matplotlib.pyplot as plt\n",
    "\n",
    "# Function to simulate a single trajectory\n",
    "def simulate_trajectory(T, length):\n",
    "    states = np.arange(1, 7)  # Possible states: 1 to 6\n",
    "    trajectory = np.zeros(length, dtype=int)\n",
    "    \n",
    "    # Initial state\n",
    "    trajectory[0] = np.random.choice(states)\n",
    "    \n",
    "    # Generate the rest of the trajectory\n",
    "    for i in range(1, length):\n",
    "        current_state = trajectory[i - 1] - 1  # Convert to 0-indexed\n",
    "        trajectory[i] = np.random.choice(states, p=T[current_state])\n",
    "    \n",
    "    return trajectory\n",
    "\n",
    "def plot_trajectories(trajectory_averages, bins=20):\n",
    "\n",
    "    # Plot the histogram\n",
    "    plt.hist(trajectory_averages, bins=bins, edgecolor='black', alpha=0.75)\n",
    "    plt.title('Histogram of Trajectory Averages')\n",
    "    plt.xlabel('Average Value')\n",
    "    plt.ylabel('Frequency')\n",
    "    plt.grid(axis='y', linestyle='--', alpha=0.7)\n",
    "    plt.show()\n",
    "\n",
    "def process_trajectories(T, trajectory_length, num_trajectories):\n",
    "    # Simulate all trajectories\n",
    "    trajectories = np.array([simulate_trajectory(T, trajectory_length) for _ in range(num_trajectories)])\n",
    "    \n",
    "    # Calculate the average of each trajectory\n",
    "    trajectory_averages = trajectories.mean(axis=1)\n",
    "\n",
    "    return trajectory_averages\n",
    "\n",
    "def process_and_plot_trajectories(T, trajectory_length, num_trajectories):\n",
    "\n",
    "    trajectory_averages = process_trajectories(T, trajectory_length, num_trajectories)\n",
    "    \n",
    "    # Compute empirical mean and standard deviation\n",
    "    empirical_mean = trajectory_averages.mean()\n",
    "    empirical_std = trajectory_averages.std()\n",
    "\n",
    "    print(f\"trajectories_average: {empirical_mean:.4f}\")\n",
    "    plot_trajectories(trajectory_averages)\n",
    "    \n",
    "    return empirical_mean, empirical_std\n"
   ]
  },
  {
   "cell_type": "code",
   "execution_count": 31,
   "metadata": {},
   "outputs": [
    {
     "name": "stdout",
     "output_type": "stream",
     "text": [
      "trajectories_average: 3.4758\n"
     ]
    },
    {
     "data": {
      "image/png": "[encoded data removed]",
      "text/plain": [
       "<Figure size 640x480 with 1 Axes>"
      ]
     },
     "metadata": {},
     "output_type": "display_data"
    },
    {
     "name": "stdout",
     "output_type": "stream",
     "text": [
      "According to the Central Limit Theorem the distribution should look like a normal disribution\n",
      "Empirical mean of trajectory averages: 3.4758\n",
      "Empirical standard deviation of trajectory averages: 0.4560\n"
     ]
    }
   ],
   "source": [
    "# Use the extracted function\n",
    "empirical_mean, empirical_std = process_and_plot_trajectories(\n",
    "    T=T,\n",
    "    trajectory_length=30,\n",
    "    num_trajectories=1000\n",
    ")\n",
    "\n",
    "print(f\"According to the Central Limit Theorem the distribution should look like a normal disribution\")\n",
    "\n",
    "print(f\"Empirical mean of trajectory averages: {empirical_mean:.4f}\")\n",
    "print(f\"Empirical standard deviation of trajectory averages: {empirical_std:.4f}\")"
   ]
  },
  {
   "cell_type": "markdown",
   "metadata": {},
   "source": [
    "##### 4.B\n",
    "Construct 1000 trajectories, each of length 500.\n",
    "1. What do you expect the average value of all 500 numbers in a trajectory to be?\n",
    "2. Compute the average value of each such trajectory. Draw a histogram of the 1000 numbers you received, using 20 bins.\n",
    "3. What does the distribution look like? What are the empirical mean and the std?"
   ]
  },
  {
   "cell_type": "code",
   "execution_count": 32,
   "metadata": {},
   "outputs": [
    {
     "name": "stdout",
     "output_type": "stream",
     "text": [
      "We expect the avarage value to be same as the previous since we calculated it from the stationary state\n"
     ]
    }
   ],
   "source": [
    "print(f\"We expect the avarage value to be same as the previous since we calculated it from the stationary state\")"
   ]
  },
  {
   "cell_type": "code",
   "execution_count": 33,
   "metadata": {},
   "outputs": [
    {
     "name": "stdout",
     "output_type": "stream",
     "text": [
      "trajectories_average: 3.4935\n"
     ]
    },
    {
     "data": {
      "image/png": "[encoded data removed]",
      "text/plain": [
       "<Figure size 640x480 with 1 Axes>"
      ]
     },
     "metadata": {},
     "output_type": "display_data"
    },
    {
     "name": "stdout",
     "output_type": "stream",
     "text": [
      "According to the Central Limit Theorem the distribution should look like a normal disribution\n",
      "Empirical mean of trajectory averages: 3.4935\n",
      "Empirical standard deviation of trajectory averages: 0.1205\n"
     ]
    }
   ],
   "source": [
    "# Use the extracted function\n",
    "empirical_mean, empirical_std = process_and_plot_trajectories(\n",
    "    T=T,\n",
    "    trajectory_length=500,\n",
    "    num_trajectories=1000\n",
    ")\n",
    "\n",
    "print(f\"According to the Central Limit Theorem the distribution should look like a normal disribution\")\n",
    "\n",
    "print(f\"Empirical mean of trajectory averages: {empirical_mean:.4f}\")\n",
    "print(f\"Empirical standard deviation of trajectory averages: {empirical_std:.4f}\")"
   ]
  },
  {
   "cell_type": "markdown",
   "metadata": {},
   "source": [
    "#### 4.C\n",
    "Draw normal fit curves on your two histograms."
   ]
  },
  {
   "cell_type": "code",
   "execution_count": null,
   "metadata": {},
   "outputs": [],
   "source": [
    "from scipy.stats import norm\n",
    "\n",
    "def plot_normal_fit_curve(trajectory_averages, empirical_mean, empirical_std, bins=20):\n",
    "\n",
    "    # Generate the x values for the normal fit curve\n",
    "    x = np.linspace(trajectory_averages.min(), trajectory_averages.max(), 1000)\n",
    "    y = norm.pdf(x, loc=empirical_mean, scale=empirical_std)\n",
    "    \n",
    "    # Plot the normal fit curve\n",
    "    plt.plot(x, y, 'r-', label='Normal Fit', linewidth=2)\n",
    "    plt.title('Histogram of Trajectory Averages with Normal Fit')\n",
    "    plt.xlabel('Average Value')\n",
    "    plt.ylabel('Density')\n",
    "    plt.grid(axis='y', linestyle='--', alpha=0.7)\n",
    "    plt.legend()\n",
    "    plt.show()\n",
    "\n",
    "plot_normal_fit_curve(trajectory_averages, empirical_mean, empirical_std)\n"
   ]
  },
  {
   "cell_type": "markdown",
   "metadata": {},
   "source": [
    "#### 4.D\n",
    "Write a python code to calculate $Cov(X_0,X_i)$ for $i=1,..,500$ based on $\\pi_0$ and $T$. \n",
    "\n",
    "Compute the values for our case."
   ]
  },
  {
   "cell_type": "code",
   "execution_count": null,
   "metadata": {},
   "outputs": [],
   "source": []
  },
  {
   "cell_type": "markdown",
   "metadata": {},
   "source": [
    "### Question 5 - Distributions (16 Points)\n",
    "\n",
    "Let $X$ be a random variable. Consider the number $q$ so that $P(X\\le q)=0.8$ (assume that such a value exists).\n",
    "\n",
    "Consider a sample $\\vec{x}(n) = x_1,...,x_n$ sampled independently from $X$. Denote the sorted observations by: $a_1 \\le a_2 \\le ... \\le a_n$. Also assume that $n \\ge 100$.\n",
    "\n",
    "Let $R(\\vec{x}(n))$ be the largest index $i \\in {1,...,n}$ such that $a_i \\le q$. If $a_1 > q$ then $R = 0$.\n",
    "\n",
    "1. What is $P(R = 0)$?\n",
    "1. What is the distribution of $R$?\n",
    "1. Given $n$, write code that computes an index $\\lambda (n)$ so that $P(a_{\\lambda (n)} \\le q) \\ge 0.9$ and $P(a_{\\lambda (n)+1} \\le q) < 0.9$.\n",
    "1. Let $X \\sim Unif(0,1)$, $q$ as above and $n=100$. Compute $\\lambda (n)$ as above. Run 200 experiments that calculate $a_{\\lambda (n)}$ for independent drawing from $X$. How many times did you observe $a_{\\lambda (n)} \\le q$?"
   ]
  },
  {
   "cell_type": "code",
   "execution_count": null,
   "metadata": {},
   "outputs": [],
   "source": []
  }
 ],
 "metadata": {
  "kernelspec": {
   "display_name": "Python 3",
   "language": "python",
   "name": "python3"
  },
  "language_info": {
   "codemirror_mode": {
    "name": "ipython",
    "version": 3
   },
   "file_extension": ".py",
   "mimetype": "text/x-python",
   "name": "python",
   "nbconvert_exporter": "python",
   "pygments_lexer": "ipython3",
   "version": "3.11.9"
  }
 },
 "nbformat": 4,
 "nbformat_minor": 2
}
