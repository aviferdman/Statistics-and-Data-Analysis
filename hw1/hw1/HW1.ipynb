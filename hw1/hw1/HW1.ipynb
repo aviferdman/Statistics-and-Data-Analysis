{
 "cells": [
  {
   "cell_type": "markdown",
   "metadata": {},
   "source": [
    "### IDs:\n",
    "Insert yours IDs to the cell below"
   ]
  },
  {
   "cell_type": "markdown",
   "metadata": {},
   "source": [
    "ID #1:\n",
    "\n",
    "ID #2:\n"
   ]
  },
  {
   "cell_type": "markdown",
   "metadata": {},
   "source": [
    "## Read the following instructions carefully:\n",
    "\n",
    "1. This Jupyter notebook contains all the step-by-step instructions needed for this exercise.\n",
    "1. Write **efficient**, **vectorized** code whenever possible. \n",
    "1. Complete the required functions in `hw1.py` script only. You are free to add cells to this notebook but only the functions in the `hw1.py` script are tested.\n",
    "1. Answers to theoretical questions should be printed when running the relevant function.\n",
    "1. In the function signatures include parameters with default values only. (`def example(a=1, b=2):`).\n",
    "1. Submission includes a **zip** file that contains the hw1.py script as well as this notebook, with your ID as the file name. For example, `hw1_123456789_987654321.zip` if you submitted in pairs and `hw1_123456789.zip` if you submitted the exercise alone."
   ]
  },
  {
   "cell_type": "code",
   "execution_count": 1,
   "metadata": {},
   "outputs": [],
   "source": [
    "import pandas as pd\n",
    "import numpy as np\n",
    "\n",
    "import matplotlib.pyplot as plt\n",
    "import matplotlib\n",
    "%matplotlib inline\n",
    "\n",
    "import warnings\n",
    "warnings.simplefilter('ignore')\n",
    "\n",
    "import seaborn as sns\n",
    "\n",
    "from scipy import stats\n",
    "\n",
    "import random\n",
    "\n",
    "from IPython.core.pylabtools import figsize"
   ]
  },
  {
   "cell_type": "markdown",
   "metadata": {},
   "source": [
    "### Question 1"
   ]
  },
  {
   "cell_type": "markdown",
   "metadata": {},
   "source": [
    "In a manufacturing pipeline products are 3% defective. We are interested in examining a defective product to see what goes wrong on the belt. We need to ask the facility manager to send us a set of independent samples for examination."
   ]
  },
  {
   "cell_type": "markdown",
   "metadata": {},
   "source": [
    "#### 1.A\n",
    "\n",
    "How many independent samples should we ask for in order to have a 85% probability of having at least one defective product in the batch sent? \n",
    "\n",
    "Complete the function `find_sample_size_binom` in `hw1.py` to answer this question using the Binomial distribution. The function should support answering the question with different numbers (5% defective and not 3% for example). The function with the parameters' default values should output the answer for current numbers."
   ]
  },
  {
   "cell_type": "code",
   "execution_count": 2,
   "metadata": {},
   "outputs": [
    {
     "data": {
      "text/plain": [
       "63"
      ]
     },
     "execution_count": 2,
     "metadata": {},
     "output_type": "execute_result"
    }
   ],
   "source": [
    "from hw1 import find_sample_size_binom\n",
    "\n",
    "find_sample_size_binom()"
   ]
  },
  {
   "cell_type": "markdown",
   "metadata": {},
   "source": [
    "#### 1.B\n",
    "Complete the function `find_sample_size_nbinom` in `hw1.py` to answer the same question using the Negative Binomial distribution."
   ]
  },
  {
   "cell_type": "code",
   "execution_count": 3,
   "metadata": {},
   "outputs": [
    {
     "data": {
      "text/plain": [
       "1"
      ]
     },
     "execution_count": 3,
     "metadata": {},
     "output_type": "execute_result"
    }
   ],
   "source": [
    "from hw1 import find_sample_size_nbinom\n",
    "\n",
    "find_sample_size_nbinom()"
   ]
  },
  {
   "cell_type": "markdown",
   "metadata": {},
   "source": [
    "#### 1.C \n",
    "\n",
    "Consider the following cases and calculate how many independent samples are required: \n",
    "\n",
    "1. Products are 10% defective and we want a 90% probability of at least 5 defective products in the batch.\n",
    "1. Products are 30% defective and we want a 90% probability of at least 15 defective products in the batch.\n",
    "\n",
    "Complete the function `compare_q1` in `hw1.py` to answer this question. The function should call the previous functions (one of them) with the relevant parameters (as default parameters to the function).\n",
    "\n",
    "The output of the function is a tuple:\n",
    "\n",
    "`(n_independent_samples_first_part, n_independent_samples_second_part)`\n"
   ]
  },
  {
   "cell_type": "code",
   "execution_count": 4,
   "metadata": {},
   "outputs": [
    {
     "data": {
      "text/plain": [
       "(78, 64)"
      ]
     },
     "execution_count": 4,
     "metadata": {},
     "output_type": "execute_result"
    }
   ],
   "source": [
    "from hw1 import compare_q1\n",
    "\n",
    "compare_q1()"
   ]
  },
  {
   "cell_type": "markdown",
   "metadata": {},
   "source": [
    "#### 1.D \n",
    "\n",
    "What is the number of independent samples that will give the same probability given the parameters in q1.C?\n",
    "\n",
    "Complete the function `same_prob` in `hw1.py` to answer this question. Use the function `np.isclose` with the parameter atol=1e-2 for the comparison.\n",
    "\n",
    "Note that the comparison is relevant only when both distributions have a probability larger than 0."
   ]
  },
  {
   "cell_type": "code",
   "execution_count": 5,
   "metadata": {},
   "outputs": [
    {
     "data": {
      "text/plain": [
       "113"
      ]
     },
     "execution_count": 5,
     "metadata": {},
     "output_type": "execute_result"
    }
   ],
   "source": [
    "from hw1 import same_prob\n",
    "\n",
    "same_prob()"
   ]
  },
  {
   "cell_type": "markdown",
   "metadata": {},
   "source": [
    "### Question 2 \n",
    "\n",
    "1. Let $X \\sim Multinomial(n,\\vec{p})$ be a multinomial random variable where $n=20$ and $\\vec{p} = (0.2,  0.1,  0.1,  0.1,  0.2,  0.3)$. Note that X is a vector of counts.\n",
    "2. Let $Y = X_2 + X_3 + X_4$ be a random variable."
   ]
  },
  {
   "cell_type": "markdown",
   "metadata": {},
   "source": [
    "#### 2.A\n",
    "\n",
    "1. Create $k=100$ experiments where $X$ is sampled. Calculate the empirical centralized third moment of $Y$ based on your $k$ experiments.\n",
    "\n",
    "Complete the function `empirical_centralized_third_moment` in `hw1.py` to answer this question."
   ]
  },
  {
   "cell_type": "code",
   "execution_count": 6,
   "metadata": {},
   "outputs": [
    {
     "name": "stdout",
     "output_type": "stream",
     "text": [
      "1.08\n"
     ]
    }
   ],
   "source": [
    "from hw1 import empirical_centralized_third_moment\n",
    "\n",
    "print(empirical_centralized_third_moment())"
   ]
  },
  {
   "cell_type": "markdown",
   "metadata": {},
   "source": [
    "#### 2.B\n",
    "\n",
    "1. Calculate the centralized third moment of the **binomial** distribution as developed in class.\n",
    "\n",
    "Complete the function `class_moment` in `hw1.py` to answer this question."
   ]
  },
  {
   "cell_type": "code",
   "execution_count": 7,
   "metadata": {},
   "outputs": [
    {
     "name": "stdout",
     "output_type": "stream",
     "text": [
      "1.6799999999999997\n"
     ]
    }
   ],
   "source": [
    "from hw1 import class_moment\n",
    "\n",
    "print(class_moment())"
   ]
  },
  {
   "cell_type": "markdown",
   "metadata": {},
   "source": [
    "#### 2.C\n",
    "\n",
    "1. Run the experiment from q2.A 1000 times.\n",
    "1. Plot an histogram with the moments you calculated. Use bins=30.\n",
    "1. Add a vertical red line to the histogram with the calculated central third moment from class (the result for q2.B)\n",
    "\n",
    "Complete the function `plot_moments` in hw1.py to answer this question. The function should also return the variance of the distribution you just created."
   ]
  },
  {
   "cell_type": "code",
   "execution_count": 8,
   "metadata": {},
   "outputs": [
    {
     "data": {
      "image/png": "[encoded data removed]",
      "text/plain": [
       "<Figure size 640x480 with 1 Axes>"
      ]
     },
     "metadata": {},
     "output_type": "display_data"
    },
    {
     "data": {
      "text/plain": [
       "11.4963660951"
      ]
     },
     "execution_count": 8,
     "metadata": {},
     "output_type": "execute_result"
    }
   ],
   "source": [
    "from hw1 import plot_moments\n",
    "\n",
    "plot_moments(seed=None)"
   ]
  },
  {
   "cell_type": "markdown",
   "metadata": {},
   "source": [
    "#### 2.D\n",
    "\n",
    "What parameter you need to change to reduce the variance of the distribution from q2.C?\n",
    "Run the same procedure from q2.C with the changed parameter.\n",
    "\n",
    "Complete the function `plot_moments_smaller_variance` in hw1.py to answer this question. "
   ]
  },
  {
   "cell_type": "code",
   "execution_count": 9,
   "metadata": {},
   "outputs": [
    {
     "data": {
      "image/png": "[encoded data removed]",
      "text/plain": [
       "<Figure size 640x480 with 1 Axes>"
      ]
     },
     "metadata": {},
     "output_type": "display_data"
    },
    {
     "data": {
      "text/plain": [
       "0.11010924927164001"
      ]
     },
     "execution_count": 9,
     "metadata": {},
     "output_type": "execute_result"
    }
   ],
   "source": [
    "from hw1 import plot_moments_smaller_variance\n",
    "\n",
    "plot_moments_smaller_variance()"
   ]
  },
  {
   "cell_type": "markdown",
   "metadata": {},
   "source": [
    "### Question 3"
   ]
  },
  {
   "cell_type": "markdown",
   "metadata": {},
   "source": [
    "#### 3.A\n",
    "\n",
    "Write a program, `Q = NFoldConv(P ,n)`, that takes as input:\n",
    "* A distribution, P, of a random variable that takes finitely many integer values\n",
    "* An integer n\n",
    "\n",
    "and produces the distribution, Q, of the sum of n independent repeats of random variables, each of which has the distribution P.\n",
    "\n",
    "Complete the function `NFoldConv(P, n)` in hw1.py to answer this question. "
   ]
  },
  {
   "cell_type": "code",
   "execution_count": 4,
   "metadata": {},
   "outputs": [
    {
     "ename": "NameError",
     "evalue": "name 'np' is not defined",
     "output_type": "error",
     "traceback": [
      "\u001b[1;31m---------------------------------------------------------------------------\u001b[0m",
      "\u001b[1;31mNameError\u001b[0m                                 Traceback (most recent call last)",
      "Cell \u001b[1;32mIn[4], line 7\u001b[0m\n\u001b[0;32m      5\u001b[0m N \u001b[38;5;241m=\u001b[39m \u001b[38;5;241m5\u001b[39m\n\u001b[0;32m      6\u001b[0m p \u001b[38;5;241m=\u001b[39m \u001b[38;5;241m0.3\u001b[39m\n\u001b[1;32m----> 7\u001b[0m values \u001b[38;5;241m=\u001b[39m \u001b[43mnp\u001b[49m\u001b[38;5;241m.\u001b[39marange(N \u001b[38;5;241m+\u001b[39m \u001b[38;5;241m1\u001b[39m)\n\u001b[0;32m      8\u001b[0m probs \u001b[38;5;241m=\u001b[39m stats\u001b[38;5;241m.\u001b[39mbinom\u001b[38;5;241m.\u001b[39mpmf(values, N, p)\n\u001b[0;32m      9\u001b[0m P \u001b[38;5;241m=\u001b[39m np\u001b[38;5;241m.\u001b[39mvstack([values, probs])\n",
      "\u001b[1;31mNameError\u001b[0m: name 'np' is not defined"
     ]
    }
   ],
   "source": [
    "from hw1 import NFoldConv\n",
    "\n",
    "# Check for Binomial Distribution\n",
    "\n",
    "N = 5\n",
    "p = 0.3\n",
    "values = np.arange(N + 1)\n",
    "probs = stats.binom.pmf(values, N, p)\n",
    "P = np.vstack([values, probs])\n",
    "P1 = NFoldConv(P, 2)\n",
    "P2 = NFoldConv(P, 3)\n",
    "P3 = NFoldConv(P, 4)\n",
    "P4 = NFoldConv(P, 5)\n",
    "P30 = NFoldConv(P, 31)"
   ]
  },
  {
   "cell_type": "markdown",
   "metadata": {},
   "source": [
    "#### 3.B\n",
    "Complete the Complete the function `plot_dist(P)` in hw1.py to plot the input distribution."
   ]
  },
  {
   "cell_type": "code",
   "execution_count": null,
   "metadata": {},
   "outputs": [],
   "source": [
    "from hw1 import plot_dist\n",
    "\n",
    "plot_dist(P)\n",
    "plot_dist(P1)\n",
    "plot_dist(P2)\n",
    "plot_dist(P3)\n",
    "plot_dist(P4)\n",
    "plot_dist(P30)\n",
    "\n"
   ]
  },
  {
   "cell_type": "markdown",
   "metadata": {},
   "source": [
    "### Question 4"
   ]
  },
  {
   "cell_type": "markdown",
   "metadata": {},
   "source": [
    "#### 4.A\n",
    "\n",
    "Write a program, `evenBinom(n, p)`. \n",
    "\n",
    "The program outputs the probability $P(X\\ is\\ even)$ for the random variable $X\\sim Binom(n, p)$.\n",
    "\n",
    "Complete the function `evenBinom(P, n)` in hw1.py to answer this question. "
   ]
  },
  {
   "cell_type": "code",
   "execution_count": null,
   "metadata": {},
   "outputs": [],
   "source": [
    "from hw1 import evenBinom"
   ]
  },
  {
   "cell_type": "markdown",
   "metadata": {},
   "source": [
    "#### 4.B\n",
    "\n",
    "Answer the same question, but this time using a formula.\n",
    "\n",
    "State and prove a closed-form formula for $P(X\\ is\\ even)$.\n",
    "\n",
    "Complete the function `evenBinomFormula(P, n)` in hw1.py to answer this question. \n",
    "\n",
    "Your function should output the probability and print the proof for the formula."
   ]
  },
  {
   "cell_type": "code",
   "execution_count": null,
   "metadata": {},
   "outputs": [],
   "source": [
    "from hw1 import evenBinomFormula"
   ]
  },
  {
   "cell_type": "markdown",
   "metadata": {},
   "source": [
    "### Question 5\n",
    "\n",
    "Let $X, Y, Z$ be three RV."
   ]
  },
  {
   "cell_type": "markdown",
   "metadata": {},
   "source": [
    "#### 5.A\n",
    "What is the variance of the sum $X + Y + Z$ of three random variables in terms of the variances of $X, Y, Z$ and the covariances between each pair of random variables? \n",
    "\n",
    "Complete the function `three_RV(X, Y, Z)` in hw1.py to answer this question. In your answer, you **cannot** create the RV $U = X + Y + Z$. "
   ]
  },
  {
   "cell_type": "code",
   "execution_count": null,
   "metadata": {},
   "outputs": [],
   "source": [
    "from hw1 import three_RV"
   ]
  },
  {
   "cell_type": "markdown",
   "metadata": {},
   "source": [
    "#### 5.B\n",
    "\n",
    "What happens if X, Y, Z are pairwise independent? \n",
    "\n",
    "Complete the function `three_RV_pairwise_independent(X, Y, Z)` in hw1.py to answer this question. In your answer, you **cannot** create the RV $U = X + Y + Z$. \n",
    "\n",
    "Note that this function should be different from the one in q5.A, but they both should output the same result for three pairwise independent RVs."
   ]
  },
  {
   "cell_type": "code",
   "execution_count": null,
   "metadata": {},
   "outputs": [],
   "source": [
    "from hw1 import three_RV_pairwise_independent"
   ]
  },
  {
   "cell_type": "markdown",
   "metadata": {},
   "source": [
    "#### 5.C\n",
    "\n",
    "If $X,Y,Z$ are pairwise independent, are they necessarily collectively independent?\n",
    "\n",
    "Complete the function `is_pairwise_collectively(values, probs)` in hw1.py to answer this question.\n",
    "\n",
    "The function takes as input 2d numpy array $values$ and 1d numpy array $probs$ that together represent the joint distribution of the three RVs.\n",
    "\n",
    "In the $values$ parameter each column corresponds with RV. In the $probs$ parameter each cell holds the probability of corresponding row in $values$.\n",
    "\n",
    "For example, the joint distribution of two RVs $X, Y$:\n",
    "\n",
    "$$values = [[0, 1],\\\\\n",
    "\\ \\ \\ \\ \\ \\ \\ \\ \\ \\ \\ \\ \\ \\ \\ \\ \\ [0, 0],\\\\\n",
    "\\ \\ \\ \\ \\ \\ \\ \\ \\ \\ \\ \\ \\ \\ \\ \\ \\ [1, 1],\\\\\n",
    "\\ \\ \\ \\ \\ \\ \\ \\ \\ \\ \\ \\ \\ \\ \\ \\ \\ [2, 0]]$$\n",
    "\n",
    "$$probs=[0.5, 0.25, 0.125, 0.125]$$\n",
    "\n",
    "Your function can assume that the RVs are pairwise independent.\n",
    "\n",
    "The function outputs a bool variable ($TRUE$ or $FALSE$) that answers the question whether the three pairwise independent RVs are also collectively independent."
   ]
  },
  {
   "cell_type": "code",
   "execution_count": null,
   "metadata": {},
   "outputs": [],
   "source": [
    "from hw1 import is_pairwise_collectively"
   ]
  },
  {
   "cell_type": "markdown",
   "metadata": {},
   "source": [
    "### Question 6 - Counting Similar Strings"
   ]
  },
  {
   "cell_type": "markdown",
   "metadata": {},
   "source": [
    "Define a probaility space $(\\Omega, P)$:\n",
    "* $\\Omega = \\{0,1\\}^n$.\n",
    "* $P$ is induced by independantly tossing a $p$-coin ($p \\in [0,1]$) n times.\n",
    "\n",
    "For $\\omega \\in \\Omega$ let $W(\\omega) =$ number of 1s in $\\omega$.\n",
    "\n",
    "For $\\omega \\in \\Omega$ let the random variable $C = C_{p, n}$ be defined by:\n",
    "$$C(\\omega) = |\\{\\zeta : W(\\zeta)=W(\\omega)\\}|$$\n",
    "\n",
    "We want to calculate the expected value of the RV $C$.\n",
    "\n",
    "Complete the function `expectedC(n, p)` in hw1.py to answer this question. The parameters $n,p$ are added to the function without default values. If you want to add more parameters to the function you need to add them with default values.  "
   ]
  },
  {
   "cell_type": "code",
   "execution_count": null,
   "metadata": {},
   "outputs": [],
   "source": [
    "from hw1 import expectedC"
   ]
  }
 ],
 "metadata": {
  "kernelspec": {
   "display_name": "Python 3 (ipykernel)",
   "language": "python",
   "name": "python3"
  },
  "language_info": {
   "codemirror_mode": {
    "name": "ipython",
    "version": 3
   },
   "file_extension": ".py",
   "mimetype": "text/x-python",
   "name": "python",
   "nbconvert_exporter": "python",
   "pygments_lexer": "ipython3",
   "version": "3.13.0"
  }
 },
 "nbformat": 4,
 "nbformat_minor": 4
}
