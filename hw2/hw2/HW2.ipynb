{
 "cells": [
  {
   "cell_type": "markdown",
   "metadata": {},
   "source": [
    "### IDs:\n",
    "Insert yours IDs to the cell below"
   ]
  },
  {
   "cell_type": "markdown",
   "metadata": {},
   "source": [
    "ID #1:\n",
    "\n",
    "ID #2:\n"
   ]
  },
  {
   "cell_type": "markdown",
   "metadata": {},
   "source": [
    "## Read the following instructions carefully:\n",
    "1. This Jupyter notebook contains all the step-by-step instructions needed for this exercise.\n",
    "1. Write **efficient**, **vectorized** code whenever possible. \n",
    "1. Some questions require you to write your functions and answers in this jupyter notebook only. For these questions, you are free to add cells to this notebook.\n",
    "1. For the other questions, you need to complete the required functions in the `hw2.py` script only. Only the functions in the `hw2.py` script are tested for this type of question.\n",
    "1. In the function signatures include parameters with default values only. (`def example(a=1, b=2):`).\n",
    "1. Submission includes a **zip** file that contains the `hw2.py` script as well as this notebook, with your ID as the file name. For example, `hw2_123456789_987654321.zip` if you submitted in pairs and `hw2_123456789.zip` if you submitted the exercise alone."
   ]
  },
  {
   "cell_type": "markdown",
   "metadata": {},
   "source": [
    "### Question 1 - Data exploration and visialization - practical"
   ]
  },
  {
   "cell_type": "markdown",
   "metadata": {},
   "source": [
    "Load California dataset from sklearn.\n",
    "Explore the data. \n",
    "Follow the instructions below and make sure to support your answers with proper outputs and plots.\n",
    "When plotting, pay close attention to the range of the axis, and include axis labels and a title for the figure.\n",
    "\n",
    "1. Describe the dataset. How many samples does it contain? How many features? What is the data type for each variable?\n",
    "2. Produce a histogram and a boxplot of the HouseAge. describe the distribution.\n",
    "3. Produce a correlation matrix of all the features. Are there any correlated features? Can you identify one feature with unusual behavior?\n",
    "4. Select the 2 pairs of features with the highest correlation (positive or negative) and plot 2 scatter plots with marginal histograms (JointPlot). \n",
    "5. Produce a cumulative histogram of the HouseAge variable and add two vertical lines on the first and third quartile (on the cumulative count)\n",
    "6. Identify and report 2 \"interesting\" trends in the data. No need to provide statistical confidence at this point. "
   ]
  },
  {
   "cell_type": "code",
   "execution_count": null,
   "metadata": {},
   "outputs": [],
   "source": [
    "from sklearn.datasets import fetch_california_housing\n",
    "import matplotlib.pyplot as plt\n",
    "import numpy as np\n",
    "import pandas as pd\n",
    "import seaborn as sns\n",
    "\n",
    "# Load the California housing dataset\n",
    "california = fetch_california_housing()\n",
    "df = pd.DataFrame(california.data, columns=california.feature_names)\n",
    "df['Target'] = california.target  # Add target variable (house prices)"
   ]
  },
  {
   "cell_type": "code",
   "execution_count": null,
   "metadata": {},
   "outputs": [],
   "source": [
    "# Step 1: Describe the dataset\n",
    "print(\"Dataset Description:\")\n",
    "print(f\"Number of samples: {df.shape[0]}\")\n",
    "print(f\"Number of features: {df.shape[1] - 1} (excluding target)\")\n",
    "print(\"\\nData Types:\")\n",
    "print(df.dtypes)\n",
    "print(\"\\nStatistical Summary:\")\n",
    "print(df.describe())"
   ]
  },
  {
   "cell_type": "code",
   "execution_count": null,
   "metadata": {},
   "outputs": [],
   "source": [
    "# Step 2: Plot histogram and boxplot for HouseAge\n",
    "plt.figure(figsize=(12, 6))\n",
    "\n",
    "plt.subplot(1, 2, 1)\n",
    "plt.hist(df['HouseAge'], bins=50, color='green', edgecolor='lightblue')\n",
    "plt.title(\"Distribution of House Age\")\n",
    "plt.xlabel(\"House Age\")\n",
    "plt.ylabel(\"Count\")\n",
    "plt.grid(axis='y', linestyle='-', alpha=0.5)\n",
    "\n",
    "plt.subplot(1, 2, 2)\n",
    "plt.boxplot(df['HouseAge'], vert=False, patch_artist=True, boxprops=dict(facecolor='green', edgecolor='lightblue'))\n",
    "plt.title(\"Boxplot of House Age\")\n",
    "plt.xlabel(\"House Age\")\n",
    "plt.grid(axis='x', linestyle='-', alpha=0.75)\n",
    "\n",
    "plt.tight_layout()\n",
    "plt.show()\n",
    "\n",
    "# Describe distribution\n",
    "print(\"\\nHouse Age Distribution:\")\n",
    "print(df['HouseAge'].describe())"
   ]
  },
  {
   "cell_type": "code",
   "execution_count": null,
   "metadata": {},
   "outputs": [],
   "source": [
    "# Step 3: Correlation Matrix\n",
    "correlation_matrix = df.corr()\n",
    "\n",
    "plt.figure(figsize=(10, 10))\n",
    "sns.heatmap(correlation_matrix, annot=True, cmap=\"coolwarm\", fmt=\".3f\", cbar=True, linewidths=0.5)\n",
    "plt.title(\"Correlation Matrix\")\n",
    "plt.show()"
   ]
  },
  {
   "cell_type": "code",
   "execution_count": null,
   "metadata": {},
   "outputs": [],
   "source": [
    "# Step 4: Find highest correlated pairs\n",
    "corr_pairs = correlation_matrix.unstack().sort_values(kind=\"quicksort\", ascending=False)\n",
    "highest_corr_pairs = corr_pairs[(corr_pairs < 1) & (corr_pairs > 0.5) | (corr_pairs < -0.5)]\n",
    "print(\"\\nHighly Correlated Pairs:\")\n",
    "print(highest_corr_pairs)"
   ]
  },
  {
   "cell_type": "code",
   "execution_count": null,
   "metadata": {},
   "outputs": [],
   "source": [
    "# Scatter plots for top 2 correlated pairs\n",
    "sns.jointplot(x='MedInc', y='Target', data=df, kind='scatter', marginal_kws=dict(bins=40, fill=True))\n",
    "plt.suptitle(\"JointPlot of MedInc vs Target (House Price)\", y=1.02)\n",
    "\n",
    "sns.jointplot(x='Longitude', y='Latitude', data=df, kind='scatter', marginal_kws=dict(bins=40, fill=True))\n",
    "plt.suptitle(\"JointPlot of AveOccup vs HouseAge\", y=1.02)\n",
    "plt.show()"
   ]
  },
  {
   "cell_type": "code",
   "execution_count": null,
   "metadata": {},
   "outputs": [],
   "source": [
    "# Step 5: Cumulative Histogram for HouseAge\n",
    "plt.figure(figsize=(10, 6))\n",
    "plt.hist(df['HouseAge'], bins=50, cumulative=True, color='lightgreen', edgecolor='azure')\n",
    "plt.axvline(np.percentile(df['HouseAge'], 25), color='red', linestyle='dashed', label='1st Quartile')\n",
    "plt.axvline(np.percentile(df['HouseAge'], 75), color='blue', linestyle='dashed', label='3rd Quartile')\n",
    "plt.title(\"Cumulative Histogram of House Age\")\n",
    "plt.xlabel(\"House Age\")\n",
    "plt.ylabel(\"Cumulative Count\")\n",
    "plt.legend()\n",
    "plt.show()"
   ]
  },
  {
   "cell_type": "code",
   "execution_count": null,
   "metadata": {},
   "outputs": [],
   "source": [
    "# Step 6: Identify Interesting Trends\n",
    "print(\"\\nInteresting Trends:\")\n",
    "print(\"1. Median Income (MedInc) has a strong positive correlation with house prices (Target). Higher income areas tend to have higher house prices.\")\n",
    "print(\"2. Average Occupancy (AveOccup) shows some negative correlation with house age, suggesting that older houses tend to have fewer occupants.\")"
   ]
  },
  {
   "cell_type": "markdown",
   "metadata": {},
   "source": [
    "### Question 2 - Independence and conditional independence"
   ]
  },
  {
   "cell_type": "markdown",
   "metadata": {},
   "source": [
    "#### 2.A\n",
    "Let $\\ X, Y \\ $ and $Z$  be discrete random variables with $\\ n, m \\ $ and $k$ possible outcomes respectively.\n",
    "\n",
    "How many parameters define the joint distribution of $\\ X, Y \\ $ and $Z$?\n",
    "\n",
    "Complete the function `q2a` in `hw2.py` to answer this question."
   ]
  },
  {
   "cell_type": "code",
   "execution_count": null,
   "metadata": {},
   "outputs": [],
   "source": [
    "from hw2 import q2a\n",
    "\n",
    "X = np.array([[1, 2, 3], [0.3, 0.4, 0.3]])\n",
    "Y = np.array([[1, 2], [0.6, 0.4]])\n",
    "Z = np.array([[1, 2, 3, 4], [0.25, 0.25, 0.25, 0.25]])\n",
    "\n",
    "q2a(X, Y, Z)"
   ]
  },
  {
   "cell_type": "markdown",
   "metadata": {},
   "source": [
    "#### 2.B\n",
    "For the same random variables from the previous section, how many parameters define the joint distribution of $\\ X, Y \\ $ and $Z$ if we now know that they are independent?\n",
    "\n",
    "Complete the function `q2b` in `hw2.py` to answer this question."
   ]
  },
  {
   "cell_type": "code",
   "execution_count": null,
   "metadata": {},
   "outputs": [],
   "source": [
    "from hw2 import q2b\n",
    "\n",
    "X = np.array([[1, 2, 3], [0.3, 0.4, 0.3]])\n",
    "Y = np.array([[1, 2], [0.6, 0.4]])\n",
    "Z = np.array([[1, 2, 3, 4], [0.25, 0.25, 0.25, 0.25]])\n",
    "\n",
    "print(q2b(X, Y, Z))"
   ]
  },
  {
   "cell_type": "markdown",
   "metadata": {},
   "source": [
    "#### 2.C\n",
    "For the same random variables from the previous section, how many parameters define the joint distribution of $\\ X, Y \\ $ and $Z$ if we now know that $X$ and $Y$ are conditionally independent given $Z$?\n",
    "\n",
    "Complete the function `q2c` in `hw2.py` to answer this question."
   ]
  },
  {
   "cell_type": "code",
   "execution_count": null,
   "metadata": {},
   "outputs": [],
   "source": [
    "from hw2 import q2c\n",
    "\n",
    "q2c(X,Y,Z)"
   ]
  },
  {
   "cell_type": "markdown",
   "metadata": {},
   "source": [
    "### Question 3 - Gaussian mixtures – parameter estimation and generation "
   ]
  },
  {
   "cell_type": "markdown",
   "metadata": {},
   "source": [
    "Consider the data provided in GMD.csv\n",
    "Assume that the data comes from a Gaussian mixture distribution (GMD) with $k=3$. Furthermore, assume that $\\mu_{1}=4, \\mu_{2}=9, \\sigma_{1}=\\sigma_{2}=0.5, \\sigma_3=1.5$ and $w_2=0.25$.\n",
    "\n",
    "Read the data and answer the following questions."
   ]
  },
  {
   "cell_type": "markdown",
   "metadata": {},
   "source": [
    "#### 3.A\n",
    "Provide an estimate for the other parameters of the distribution using Algebra.\n",
    "\n",
    "Write your solution in a Markdown cell below"
   ]
  },
  {
   "cell_type": "code",
   "execution_count": null,
   "metadata": {},
   "outputs": [],
   "source": []
  },
  {
   "cell_type": "markdown",
   "metadata": {},
   "source": []
  },
  {
   "cell_type": "markdown",
   "metadata": {},
   "source": [
    "#### 3.B\n",
    "Provide an estimate for the other parameters of the distribution using EM.\n",
    "\n",
    "Your EM algorithm should support the fact that some of the parameter values are known in advance.\n",
    "\n",
    "Complete the function `my_EM` in `hw2.py` to answer this question."
   ]
  },
  {
   "cell_type": "code",
   "execution_count": null,
   "metadata": {},
   "outputs": [],
   "source": [
    "from hw2 import my_EM\n",
    "\n",
    "my_EM()"
   ]
  },
  {
   "cell_type": "markdown",
   "metadata": {},
   "source": [
    "#### 3.C\n",
    "Now assume that the data comes from a Gaussian mixture distribution (GMD) with $k=4$.\n",
    "\n",
    "The given data and parameters stay the same.\n",
    "\n",
    "Provide an estimate for the other parameters of the distribution using EM. \n",
    "\n",
    "You need to use my_EM function from the previous section to answer this question. Your function should support any number of Gaussians and the specific known parameters in this question. "
   ]
  },
  {
   "cell_type": "code",
   "execution_count": null,
   "metadata": {},
   "outputs": [],
   "source": [
    "from hw2 import my_EM\n",
    "\n",
    "my_EM()"
   ]
  },
  {
   "cell_type": "markdown",
   "metadata": {},
   "source": [
    "#### 3.D\n",
    "Write a function for generating data for a GMM random variable.\n",
    "\n",
    "Complete the function `q3d` in `hw2.py` to answer this question.\n"
   ]
  },
  {
   "cell_type": "code",
   "execution_count": null,
   "metadata": {},
   "outputs": [],
   "source": [
    "from hw2 import q3d\n",
    "\n",
    "X = q3d()"
   ]
  },
  {
   "cell_type": "markdown",
   "metadata": {},
   "source": [
    "### Question 4 - Normally distributed salaries"
   ]
  },
  {
   "cell_type": "markdown",
   "metadata": {},
   "source": [
    "The annual salaries of employees in a large Randomistan company are approximately normally distributed with a mean of 75,000 RCU and a standard deviation of 37,500 RCU.\n",
    "\n",
    "Complete the functions in `hw2.py` to answer the following question."
   ]
  },
  {
   "cell_type": "markdown",
   "metadata": {},
   "source": [
    "#### 4.A\n",
    "What percent of people earn less than 50,000 RCU?"
   ]
  },
  {
   "cell_type": "code",
   "execution_count": null,
   "metadata": {},
   "outputs": [],
   "source": [
    "from hw2 import q4a\n",
    "\n",
    "X = q4a()\n",
    "X"
   ]
  },
  {
   "cell_type": "markdown",
   "metadata": {},
   "source": [
    "#### 4.B\n",
    "What percent of people earn between 45,000 RCU and 65,000 RCU?"
   ]
  },
  {
   "cell_type": "code",
   "execution_count": null,
   "metadata": {},
   "outputs": [],
   "source": [
    "from hw2 import q4b\n",
    "\n",
    "X = q4b()\n",
    "X"
   ]
  },
  {
   "cell_type": "markdown",
   "metadata": {},
   "source": [
    "#### 4.C\n",
    "What percent of people earn more than 85,000 RCU?"
   ]
  },
  {
   "cell_type": "code",
   "execution_count": null,
   "metadata": {},
   "outputs": [],
   "source": [
    "from hw2 import q4c\n",
    "\n",
    "X = q4c()\n",
    "X"
   ]
  },
  {
   "cell_type": "markdown",
   "metadata": {},
   "source": [
    "#### 4.D\n",
    "The company has 1000 employees. How many employees in the company do you expect to earn more than 140,000 RCU?"
   ]
  },
  {
   "cell_type": "code",
   "execution_count": null,
   "metadata": {},
   "outputs": [],
   "source": [
    "from hw2 import q4d\n",
    "\n",
    "X = q4d()\n",
    "X"
   ]
  },
  {
   "cell_type": "markdown",
   "metadata": {},
   "source": [
    "### Question 5 - Coupon collector"
   ]
  },
  {
   "cell_type": "markdown",
   "metadata": {},
   "source": [
    "Let $T_{N}$ denote the waiting time for full single coupon collection with N different equiprobable coupon types.\n"
   ]
  },
  {
   "cell_type": "markdown",
   "metadata": {},
   "source": [
    "#### 5.A\n",
    "Write code to compute the exact value of $E(T_{N})$\n",
    "\n",
    "Complete the function `CC_Expected` in `hw2.py` to answer the following question."
   ]
  },
  {
   "cell_type": "code",
   "execution_count": null,
   "metadata": {},
   "outputs": [],
   "source": [
    "from hw2 import CC_Expected\n",
    "\n",
    "CC_Expected()"
   ]
  },
  {
   "cell_type": "markdown",
   "metadata": {},
   "source": [
    "#### 5.B\n",
    "Write code to compute the exact value of $V(T_{N})$\n",
    "\n",
    "Complete the function `CC_Variance` in `hw2.py` to answer the following question."
   ]
  },
  {
   "cell_type": "code",
   "execution_count": null,
   "metadata": {},
   "outputs": [],
   "source": [
    "from hw2 import CC_Variance\n",
    "\n",
    "CC_Variance()"
   ]
  },
  {
   "cell_type": "markdown",
   "metadata": {},
   "source": [
    "#### 5.C\n",
    "Write code to exactly compute $P(T_{10}>30)$\n",
    "\n",
    "Complete the function `CC_T_Steps` in `hw2.py` to answer the following question."
   ]
  },
  {
   "cell_type": "code",
   "execution_count": null,
   "metadata": {},
   "outputs": [],
   "source": [
    "from hw2 import CC_T_Steps\n",
    "\n",
    "CC_T_Steps()"
   ]
  },
  {
   "cell_type": "markdown",
   "metadata": {},
   "source": [
    "#### 5.D\n",
    "Let $S_N$ denote the waiting time until $N$ different coupons are collected **twice**.\n",
    "\n",
    "Write code to exactly compute $P(S_{10}>30)$\n",
    "\n",
    "Complete the function `CC_S_Steps` in `hw2.py` to answer the following question."
   ]
  },
  {
   "cell_type": "code",
   "execution_count": null,
   "metadata": {},
   "outputs": [],
   "source": [
    "from hw2 import CC_S_Steps\n",
    "\n",
    "CC_S_Steps()"
   ]
  },
  {
   "cell_type": "code",
   "execution_count": null,
   "metadata": {},
   "outputs": [],
   "source": []
  }
 ],
 "metadata": {
  "kernelspec": {
   "display_name": "Python 3 (ipykernel)",
   "language": "python",
   "name": "python3"
  },
  "language_info": {
   "codemirror_mode": {
    "name": "ipython",
    "version": 3
   },
   "file_extension": ".py",
   "mimetype": "text/x-python",
   "name": "python",
   "nbconvert_exporter": "python",
   "pygments_lexer": "ipython3",
   "version": "3.11.5"
  }
 },
 "nbformat": 4,
 "nbformat_minor": 4
}
